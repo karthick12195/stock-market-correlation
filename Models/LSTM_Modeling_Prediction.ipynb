{
 "cells": [
  {
   "cell_type": "markdown",
   "metadata": {
    "colab_type": "text",
    "id": "DB0vv4pBcWu9"
   },
   "source": [
    "# Q3 Using Scikit-Learn"
   ]
  },
  {
   "cell_type": "markdown",
   "metadata": {},
   "source": [
    "# Imports\n",
    "Do not modify"
   ]
  },
  {
   "cell_type": "code",
   "execution_count": 2,
   "metadata": {
    "colab": {},
    "colab_type": "code",
    "id": "GalZFbfhcWvA"
   },
   "outputs": [],
   "source": [
    "#export\n",
    "import pkg_resources\n",
    "from pkg_resources import DistributionNotFound, VersionConflict\n",
    "from platform import python_version\n",
    "import numpy as np\n",
    "import pandas as pd\n",
    "import time\n",
    "import gc\n",
    "import random\n",
    "from sklearn.model_selection import cross_val_score, GridSearchCV, cross_validate, train_test_split\n",
    "from sklearn.metrics import accuracy_score, classification_report\n",
    "from sklearn.svm import SVC\n",
    "from sklearn.linear_model import LinearRegression\n",
    "from sklearn.neural_network import MLPClassifier\n",
    "from sklearn.ensemble import RandomForestClassifier\n",
    "from sklearn.preprocessing import StandardScaler, normalize\n",
    "from sklearn.decomposition import PCA\n",
    "from sklearn.impute import SimpleImputer\n",
    "from keras.models import Sequential\n",
    "from keras.layers import LSTM, Dense"
   ]
  },
  {
   "cell_type": "code",
   "execution_count": 3,
   "metadata": {},
   "outputs": [],
   "source": [
    "%load_ext autoreload\n",
    "%autoreload 2\n",
    "import tests as tests"
   ]
  },
  {
   "cell_type": "markdown",
   "metadata": {},
   "source": [
    "# Verify your Python version and setup"
   ]
  },
  {
   "cell_type": "code",
   "execution_count": 4,
   "metadata": {
    "pycharm": {
     "name": "#%%\n"
    }
   },
   "outputs": [],
   "source": [
    "# Define some functions to check setup\n",
    "def check_python_version():\n",
    "    print('Your python version is ', python_version())\n",
    "    assert python_version()[:3] == '3.7', 'Make sure you use python version >=3.7'\n",
    "\n",
    "def check_env_setup():\n",
    "    dependencies = open(\"requirements.txt\").readlines()\n",
    "    try:\n",
    "        pkg_resources.require(dependencies)\n",
    "        print(\"✅ ALL GOOD\")\n",
    "    except DistributionNotFound as e:\n",
    "        print(\"⚠️ Library is missing\")\n",
    "        print(e)\n",
    "    except VersionConflict as e:\n",
    "        print(\"⚠️ Library version conflict\")\n",
    "        print(e)\n",
    "    except Exception as e:\n",
    "        print(\"⚠️ Something went wrong\")\n",
    "        print(e)"
   ]
  },
  {
   "cell_type": "code",
   "execution_count": 5,
   "metadata": {
    "pycharm": {
     "name": "#%%\n"
    }
   },
   "outputs": [
    {
     "name": "stdout",
     "output_type": "stream",
     "text": [
      "Your python version is  3.7.12\n",
      "⚠️ Library version conflict\n",
      "(jupyter-core 4.11.1 (c:\\users\\sande\\anaconda3\\envs\\py37\\lib\\site-packages), Requirement.parse('jupyter-core!=5.0.*,>=4.12'), {'jupyter-console'})\n"
     ]
    }
   ],
   "source": [
    "# verify the environment setup\n",
    "check_python_version()\n",
    "check_env_setup()"
   ]
  },
  {
   "cell_type": "code",
   "execution_count": 6,
   "metadata": {},
   "outputs": [],
   "source": [
    "raw_df = pd.read_csv('final_output.csv')"
   ]
  },
  {
   "cell_type": "code",
   "execution_count": 7,
   "metadata": {},
   "outputs": [],
   "source": [
    "raw_df['Date'] = pd.to_datetime(raw_df['Date'])"
   ]
  },
  {
   "cell_type": "code",
   "execution_count": 8,
   "metadata": {},
   "outputs": [
    {
     "data": {
      "text/plain": [
       "(8401,)"
      ]
     },
     "execution_count": 8,
     "metadata": {},
     "output_type": "execute_result"
    }
   ],
   "source": [
    "df1 = raw_df['S&P 500']\n",
    "df1.shape"
   ]
  },
  {
   "cell_type": "code",
   "execution_count": 9,
   "metadata": {},
   "outputs": [
    {
     "data": {
      "text/plain": [
       "[<matplotlib.lines.Line2D at 0x185e5e5ec48>]"
      ]
     },
     "execution_count": 9,
     "metadata": {},
     "output_type": "execute_result"
    },
    {
     "data": {
      "image/png": "[encoded data removed]",
      "text/plain": [
       "<Figure size 640x480 with 1 Axes>"
      ]
     },
     "metadata": {},
     "output_type": "display_data"
    }
   ],
   "source": [
    "import matplotlib.pyplot as plt\n",
    "plt.plot(df1)"
   ]
  },
  {
   "cell_type": "code",
   "execution_count": 11,
   "metadata": {},
   "outputs": [
    {
     "data": {
      "text/plain": [
       "array([[0.18900105],\n",
       "       [0.18900105],\n",
       "       [0.18900105],\n",
       "       ...,\n",
       "       [0.77007934],\n",
       "       [0.76770557],\n",
       "       [0.76770557]])"
      ]
     },
     "execution_count": 11,
     "metadata": {},
     "output_type": "execute_result"
    }
   ],
   "source": [
    "from sklearn.preprocessing import MinMaxScaler\n",
    "scaler = MinMaxScaler(feature_range=(0,1))\n",
    "df2 = scaler.fit_transform(np.array(df1).reshape(-1,1))\n",
    "df2"
   ]
  },
  {
   "cell_type": "code",
   "execution_count": 12,
   "metadata": {},
   "outputs": [],
   "source": [
    "train_size = int(len(df2)*.7)\n",
    "test_size = len(df2) - train_size\n",
    "train_data, test_data = df2[0:train_size,:],df2[train_size:len(df2),:]"
   ]
  },
  {
   "cell_type": "code",
   "execution_count": 13,
   "metadata": {},
   "outputs": [],
   "source": [
    "def create_lstm_ds(dataset,time_step=1):\n",
    "    dataX, dataY = [],[]\n",
    "    for i in range(len(dataset)-time_step-1):\n",
    "        dataX.append(dataset[i:(i+time_step),0])\n",
    "        dataY.append(dataset[i+time_step,0])\n",
    "    return np.array(dataX),np.array(dataY)"
   ]
  },
  {
   "cell_type": "code",
   "execution_count": 14,
   "metadata": {},
   "outputs": [],
   "source": [
    "time_step = 360\n",
    "X_train, y_train = create_lstm_ds(train_data,time_step)\n",
    "X_test, y_test = create_lstm_ds(test_data,time_step)"
   ]
  },
  {
   "cell_type": "code",
   "execution_count": 61,
   "metadata": {},
   "outputs": [
    {
     "data": {
      "text/plain": [
       "((5519, 360), (0,), (2160, 360), (2160,))"
      ]
     },
     "execution_count": 61,
     "metadata": {},
     "output_type": "execute_result"
    }
   ],
   "source": [
    "X_train.shape,y_train.shape, X_test.shape, y_test.shape"
   ]
  },
  {
   "cell_type": "code",
   "execution_count": 16,
   "metadata": {},
   "outputs": [],
   "source": [
    "from tensorflow.keras.models import Sequential\n",
    "from tensorflow.keras.layers import Dense\n",
    "from tensorflow.keras.layers import LSTM\n",
    "model = Sequential()\n",
    "model.add(LSTM(50,return_sequences=True,input_shape=(360,1)))\n",
    "model.add(LSTM(50,return_sequences=True))\n",
    "model.add(LSTM(50))\n",
    "model.add(Dense(1))\n",
    "model.compile(optimizer='adam', loss='mean_squared_error')"
   ]
  },
  {
   "cell_type": "code",
   "execution_count": 17,
   "metadata": {},
   "outputs": [
    {
     "name": "stdout",
     "output_type": "stream",
     "text": [
      "Model: \"sequential\"\n",
      "_________________________________________________________________\n",
      " Layer (type)                Output Shape              Param #   \n",
      "=================================================================\n",
      " lstm (LSTM)                 (None, 360, 50)           10400     \n",
      "                                                                 \n",
      " lstm_1 (LSTM)               (None, 360, 50)           20200     \n",
      "                                                                 \n",
      " lstm_2 (LSTM)               (None, 50)                20200     \n",
      "                                                                 \n",
      " dense (Dense)               (None, 1)                 51        \n",
      "                                                                 \n",
      "=================================================================\n",
      "Total params: 50,851\n",
      "Trainable params: 50,851\n",
      "Non-trainable params: 0\n",
      "_________________________________________________________________\n"
     ]
    }
   ],
   "source": [
    "model.summary()"
   ]
  },
  {
   "cell_type": "code",
   "execution_count": 18,
   "metadata": {},
   "outputs": [
    {
     "name": "stdout",
     "output_type": "stream",
     "text": [
      "Epoch 1/30\n",
      "87/87 [==============================] - 141s 1s/step - loss: 0.0013 - val_loss: 6.5911e-04\n",
      "Epoch 2/30\n",
      "87/87 [==============================] - 126s 1s/step - loss: 5.9045e-05 - val_loss: 0.0013\n",
      "Epoch 3/30\n",
      "87/87 [==============================] - 121s 1s/step - loss: 5.9942e-05 - val_loss: 0.0011\n",
      "Epoch 4/30\n",
      "87/87 [==============================] - 105s 1s/step - loss: 5.6522e-05 - val_loss: 0.0010\n",
      "Epoch 5/30\n",
      "87/87 [==============================] - 121s 1s/step - loss: 5.4957e-05 - val_loss: 0.0016\n",
      "Epoch 6/30\n",
      "87/87 [==============================] - 126s 1s/step - loss: 5.4588e-05 - val_loss: 7.2213e-04\n",
      "Epoch 7/30\n",
      "87/87 [==============================] - 122s 1s/step - loss: 5.1108e-05 - val_loss: 6.1536e-04\n",
      "Epoch 8/30\n",
      "87/87 [==============================] - 120s 1s/step - loss: 5.4046e-05 - val_loss: 4.2995e-04\n",
      "Epoch 9/30\n",
      "87/87 [==============================] - 127s 1s/step - loss: 5.2004e-05 - val_loss: 5.7001e-04\n",
      "Epoch 10/30\n",
      "87/87 [==============================] - 126s 1s/step - loss: 4.7419e-05 - val_loss: 6.7672e-04\n",
      "Epoch 11/30\n",
      "87/87 [==============================] - 126s 1s/step - loss: 4.4188e-05 - val_loss: 4.0860e-04\n",
      "Epoch 12/30\n",
      "87/87 [==============================] - 126s 1s/step - loss: 4.5374e-05 - val_loss: 3.6821e-04\n",
      "Epoch 13/30\n",
      "87/87 [==============================] - 128s 1s/step - loss: 4.1119e-05 - val_loss: 5.4952e-04\n",
      "Epoch 14/30\n",
      "87/87 [==============================] - 125s 1s/step - loss: 4.1361e-05 - val_loss: 3.1831e-04\n",
      "Epoch 15/30\n",
      "87/87 [==============================] - 126s 1s/step - loss: 4.0714e-05 - val_loss: 3.8102e-04\n",
      "Epoch 16/30\n",
      "87/87 [==============================] - 124s 1s/step - loss: 4.0303e-05 - val_loss: 9.3116e-04\n",
      "Epoch 17/30\n",
      "87/87 [==============================] - 128s 1s/step - loss: 3.9090e-05 - val_loss: 6.1730e-04\n",
      "Epoch 18/30\n",
      "87/87 [==============================] - 128s 1s/step - loss: 3.8394e-05 - val_loss: 0.0021\n",
      "Epoch 19/30\n",
      "87/87 [==============================] - 127s 1s/step - loss: 3.8715e-05 - val_loss: 4.9487e-04\n",
      "Epoch 20/30\n",
      "87/87 [==============================] - 132s 2s/step - loss: 3.7152e-05 - val_loss: 4.2046e-04\n",
      "Epoch 21/30\n",
      "87/87 [==============================] - 131s 2s/step - loss: 3.4857e-05 - val_loss: 3.8921e-04\n",
      "Epoch 22/30\n",
      "87/87 [==============================] - 131s 2s/step - loss: 3.6522e-05 - val_loss: 0.0010\n",
      "Epoch 23/30\n",
      "87/87 [==============================] - 134s 2s/step - loss: 3.8972e-05 - val_loss: 6.9754e-04\n",
      "Epoch 24/30\n",
      "87/87 [==============================] - 131s 2s/step - loss: 3.8680e-05 - val_loss: 8.0863e-04\n",
      "Epoch 25/30\n",
      "87/87 [==============================] - 134s 2s/step - loss: 3.6490e-05 - val_loss: 4.9052e-04\n",
      "Epoch 26/30\n",
      "87/87 [==============================] - 138s 2s/step - loss: 3.3060e-05 - val_loss: 3.3783e-04\n",
      "Epoch 27/30\n",
      "87/87 [==============================] - 134s 2s/step - loss: 3.3293e-05 - val_loss: 0.0011\n",
      "Epoch 28/30\n",
      "87/87 [==============================] - 131s 2s/step - loss: 3.2474e-05 - val_loss: 3.3012e-04\n",
      "Epoch 29/30\n",
      "87/87 [==============================] - 126s 1s/step - loss: 2.9341e-05 - val_loss: 0.0011\n",
      "Epoch 30/30\n",
      "87/87 [==============================] - 133s 2s/step - loss: 2.9714e-05 - val_loss: 3.8184e-04\n"
     ]
    },
    {
     "data": {
      "text/plain": [
       "<keras.callbacks.History at 0x185ea8d9148>"
      ]
     },
     "execution_count": 18,
     "metadata": {},
     "output_type": "execute_result"
    }
   ],
   "source": [
    "model.fit(X_train, y_train, validation_data=(X_test,y_test), epochs=30, batch_size=64,verbose=1)"
   ]
  },
  {
   "cell_type": "code",
   "execution_count": 66,
   "metadata": {},
   "outputs": [
    {
     "name": "stdout",
     "output_type": "stream",
     "text": [
      "173/173 [==============================] - 23s 135ms/step\n",
      "68/68 [==============================] - 11s 166ms/step\n"
     ]
    }
   ],
   "source": [
    "train_predict = scaler.inverse_transform(model.predict(X_train))\n",
    "test_predict = scaler.inverse_transform(model.predict(X_test))\n"
   ]
  },
  {
   "cell_type": "code",
   "execution_count": 67,
   "metadata": {},
   "outputs": [
    {
     "data": {
      "text/plain": [
       "array([[2283.8694],\n",
       "       [2282.2134],\n",
       "       [2279.847 ],\n",
       "       ...,\n",
       "       [3769.6003],\n",
       "       [3766.1775],\n",
       "       [3765.3103]], dtype=float32)"
      ]
     },
     "execution_count": 67,
     "metadata": {},
     "output_type": "execute_result"
    }
   ],
   "source": [
    "test_predict"
   ]
  },
  {
   "cell_type": "code",
   "execution_count": 68,
   "metadata": {},
   "outputs": [
    {
     "data": {
      "image/png": "[encoded data removed]",
      "text/plain": [
       "<Figure size 640x480 with 1 Axes>"
      ]
     },
     "metadata": {},
     "output_type": "display_data"
    }
   ],
   "source": [
    "look_back = 360\n",
    "trainPrPlot = np.empty((8401,1,))\n",
    "trainPrPlot[:, :] = np.nan\n",
    "trainPrPlot[look_back:len(train_predict)+look_back, :] = train_predict\n",
    "testPrPlot = np.empty((8401,1,))\n",
    "testPrPlot[:, :] = np.nan\n",
    "testPrPlot[len(train_predict)+(look_back*2)+1:len(df1)-1, :] = test_predict\n",
    "plt.plot(df1)\n",
    "plt.plot(trainPrPlot)\n",
    "plt.plot(testPrPlot)\n",
    "plt.show()"
   ]
  },
  {
   "cell_type": "code",
   "execution_count": 69,
   "metadata": {},
   "outputs": [],
   "source": [
    "x_input=test_data[2161:].reshape(1,-1)\n",
    "temp_input=list(x_input)\n",
    "temp_input=temp_input[0].tolist()"
   ]
  },
  {
   "cell_type": "code",
   "execution_count": 70,
   "metadata": {},
   "outputs": [],
   "source": [
    "lst_output=[]\n",
    "n_steps=360\n",
    "i=0\n",
    "while(i<360):\n",
    "    \n",
    "    if(len(temp_input)>360):\n",
    "        x_input=np.array(temp_input[1:])\n",
    "        x_input=x_input.reshape(1,-1)\n",
    "        x_input = x_input.reshape((1, n_steps, 1))\n",
    "        yhat = model.predict(x_input, verbose=0)\n",
    "        temp_input.extend(yhat[0].tolist())\n",
    "        temp_input=temp_input[1:]\n",
    "        lst_output.extend(yhat.tolist())\n",
    "        i=i+1\n",
    "    else:\n",
    "        x_input = x_input.reshape((1, n_steps,1))\n",
    "        yhat = model.predict(x_input, verbose=0)\n",
    "        temp_input.extend(yhat[0].tolist())\n",
    "        lst_output.extend(yhat.tolist())\n",
    "        i=i+1"
   ]
  },
  {
   "cell_type": "code",
   "execution_count": 71,
   "metadata": {},
   "outputs": [],
   "source": [
    "future_predict_360 = scaler.inverse_transform(lst_output)"
   ]
  },
  {
   "cell_type": "code",
   "execution_count": 72,
   "metadata": {},
   "outputs": [
    {
     "name": "stderr",
     "output_type": "stream",
     "text": [
      "C:\\Users\\sande\\anaconda3\\envs\\py37\\lib\\site-packages\\numpy\\core\\_asarray.py:171: VisibleDeprecationWarning: Creating an ndarray from ragged nested sequences (which is a list-or-tuple of lists-or-tuples-or ndarrays with different lengths or shapes) is deprecated. If you meant to do this, you must specify 'dtype=object' when creating the ndarray.\n",
      "  return array(a, dtype, copy=False, order=order, subok=True)\n"
     ]
    },
    {
     "data": {
      "text/plain": [
       "[<matplotlib.lines.Line2D at 0x185f3f64b88>]"
      ]
     },
     "execution_count": 72,
     "metadata": {},
     "output_type": "execute_result"
    },
    {
     "data": {
      "image/png": "[encoded data removed]",
      "text/plain": [
       "<Figure size 640x480 with 1 Axes>"
      ]
     },
     "metadata": {},
     "output_type": "display_data"
    }
   ],
   "source": [
    "df3=df1.tolist()\n",
    "df3.extend(future_predict_360)\n",
    "plt.plot(df3[:])"
   ]
  },
  {
   "cell_type": "code",
   "execution_count": 47,
   "metadata": {},
   "outputs": [],
   "source": [
    "pd.DataFrame(train_predict).to_csv(\"train-predicted.csv\", encoding='utf-8', index=False)"
   ]
  },
  {
   "cell_type": "code",
   "execution_count": 50,
   "metadata": {},
   "outputs": [],
   "source": [
    "pd.DataFrame(future_predict_360).to_csv(\"future360-predicted.csv\", encoding='utf-8', index=False)"
   ]
  },
  {
   "cell_type": "code",
   "execution_count": 49,
   "metadata": {},
   "outputs": [],
   "source": [
    "pd.DataFrame(test_predict).to_csv(\"test-predicted.csv\", encoding='utf-8', index=False)"
   ]
  },
  {
   "cell_type": "code",
   "execution_count": null,
   "metadata": {},
   "outputs": [],
   "source": []
  }
 ],
 "metadata": {
  "colab": {
   "name": "hw4q3.soln.ipynb",
   "provenance": []
  },
  "kernelspec": {
   "display_name": "Python 3 (ipykernel)",
   "language": "python",
   "name": "python3"
  },
  "language_info": {
   "codemirror_mode": {
    "name": "ipython",
    "version": 3
   },
   "file_extension": ".py",
   "mimetype": "text/x-python",
   "name": "python",
   "nbconvert_exporter": "python",
   "pygments_lexer": "ipython3",
   "version": "3.9.2"
  }
 },
 "nbformat": 4,
 "nbformat_minor": 1
}
