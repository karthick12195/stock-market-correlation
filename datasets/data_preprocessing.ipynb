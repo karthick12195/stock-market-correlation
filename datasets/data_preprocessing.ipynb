{
 "cells": [
  {
   "cell_type": "code",
   "execution_count": 1,
   "metadata": {
    "ExecuteTime": {
     "end_time": "2023-04-21T22:04:54.280571Z",
     "start_time": "2023-04-21T22:04:54.276458Z"
    }
   },
   "outputs": [],
   "source": [
    "import pandas as pd\n",
    "import openpyxl\n",
    "from functools import reduce\n",
    "from sklearn.decomposition import PCA\n",
    "from sklearn.preprocessing import StandardScaler\n",
    "from sklearn.feature_selection import RFE\n",
    "from sklearn.linear_model import Lasso\n",
    "\n",
    "import warnings\n",
    "warnings.filterwarnings('ignore')"
   ]
  },
  {
   "cell_type": "code",
   "execution_count": 2,
   "metadata": {
    "ExecuteTime": {
     "end_time": "2023-04-21T22:05:02.221820Z",
     "start_time": "2023-04-21T22:04:55.361910Z"
    }
   },
   "outputs": [],
   "source": [
    "dataset_xls = pd.read_excel('macroeconomic_indicators.xlsx',sheet_name=None)\n",
    "\n",
    "AAA = dataset_xls['AAA']\n",
    "BAA = dataset_xls['BAA']\n",
    "DGS1MO = dataset_xls['DGS1MO']\n",
    "DGS5 = dataset_xls['DGS5']\n",
    "DGS10 = dataset_xls['DGS10']\n",
    "gold = dataset_xls['Gold']\n",
    "T_bill = dataset_xls['T-Bill']\n",
    "UNRATENSA = dataset_xls['UNRATENSA']\n",
    "USTREASERY_BILLRATES = dataset_xls['USTREASURY']\n",
    "FOREX = dataset_xls['FOREX']\n",
    "wti = dataset_xls['wti']\n",
    "NASDAQ = dataset_xls['NASDAQ']\n",
    "SP500 = dataset_xls['SP500']\n",
    "# Securities = dataset_xls['Securities']\n",
    "# Technical_Indicators = dataset_xls['Technical Indicators']\n",
    "\n",
    "FOREX['Date'] = pd.to_datetime(FOREX['Date'])\n",
    "\n",
    "FOREX_filtered = FOREX[['Date', 'CNY:Renminbi', 'JPY:Yen', 'EUR:Euro', 'GBP:Pound (sterling)', \n",
    "                        'INR:Indian rupee', 'CAD:Canadian dollar', 'KRW:Won']]"
   ]
  },
  {
   "cell_type": "code",
   "execution_count": 3,
   "metadata": {
    "ExecuteTime": {
     "end_time": "2023-04-21T22:05:03.782244Z",
     "start_time": "2023-04-21T22:05:03.777891Z"
    }
   },
   "outputs": [],
   "source": [
    "df = pd.DataFrame({\n",
    "    'Date': pd.date_range(start='2022-01-01', end='2022-03-31', freq='D')\n",
    "})"
   ]
  },
  {
   "cell_type": "code",
   "execution_count": 4,
   "metadata": {
    "ExecuteTime": {
     "end_time": "2023-04-21T22:05:05.161086Z",
     "start_time": "2023-04-21T22:05:05.107295Z"
    }
   },
   "outputs": [],
   "source": [
    "dataframes = [df, AAA, BAA, DGS1MO, DGS5, DGS10, gold, T_bill, UNRATENSA, USTREASERY_BILLRATES, FOREX_filtered, wti, NASDAQ, SP500]\n",
    "\n",
    "def merge_dataframes(df1, df2):\n",
    "    return pd.merge(df1, df2, on='Date', how='outer')\n",
    "\n",
    "merged_df = reduce(merge_dataframes, dataframes)\n",
    "merged_df=merged_df.sort_values(by='Date')\n",
    "\n",
    "for column in merged_df.columns:\n",
    "    if not pd.isna(merged_df[column].iloc[0]):\n",
    "        merged_df[column] = merged_df[column].fillna(method='ffill')\n",
    "    else:\n",
    "        merged_df[column] = merged_df[column].fillna(method='bfill').fillna(method='ffill')\n",
    "\n",
    "merged_df=merged_df.reset_index(drop=True)"
   ]
  },
  {
   "cell_type": "code",
   "execution_count": 5,
   "metadata": {
    "ExecuteTime": {
     "end_time": "2023-04-21T22:05:06.610555Z",
     "start_time": "2023-04-21T22:05:06.099477Z"
    }
   },
   "outputs": [],
   "source": [
    "merged_df.to_csv('macroeconomic_indicators.csv', index=False)\n"
   ]
  }
 ],
 "metadata": {
  "kernelspec": {
   "display_name": "Python 3 (ipykernel)",
   "language": "python",
   "name": "python3"
  },
  "language_info": {
   "codemirror_mode": {
    "name": "ipython",
    "version": 3
   },
   "file_extension": ".py",
   "mimetype": "text/x-python",
   "name": "python",
   "nbconvert_exporter": "python",
   "pygments_lexer": "ipython3",
   "version": "3.9.2"
  }
 },
 "nbformat": 4,
 "nbformat_minor": 1
}
