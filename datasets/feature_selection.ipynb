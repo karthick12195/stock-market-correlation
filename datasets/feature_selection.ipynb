{
 "cells": [
  {
   "cell_type": "code",
   "execution_count": 1,
   "metadata": {
    "ExecuteTime": {
     "end_time": "2023-04-21T22:04:54.280571Z",
     "start_time": "2023-04-21T22:04:54.276458Z"
    }
   },
   "outputs": [],
   "source": [
    "import pandas as pd\n",
    "import openpyxl\n",
    "from functools import reduce\n",
    "from sklearn.decomposition import PCA\n",
    "from sklearn.preprocessing import StandardScaler\n",
    "from sklearn.feature_selection import RFE\n",
    "from sklearn.linear_model import Lasso\n",
    "\n",
    "import warnings\n",
    "warnings.filterwarnings('ignore')"
   ]
  },
  {
   "cell_type": "code",
   "execution_count": 2,
   "metadata": {},
   "outputs": [],
   "source": [
    "raw_df = pd.read_csv('macroeconomic_indicators.csv')"
   ]
  },
  {
   "cell_type": "markdown",
   "metadata": {},
   "source": [
    "## Feature Selection"
   ]
  },
  {
   "cell_type": "markdown",
   "metadata": {},
   "source": [
    "PCA helps with feature selection by transforming the original features into principal components that capture the most variance in the dataset. Analyzing the principal components can provide insights into the relationships and importance of the original features, aiding in the identification of relevant features for prediction."
   ]
  },
  {
   "cell_type": "code",
   "execution_count": 3,
   "metadata": {
    "ExecuteTime": {
     "end_time": "2023-04-21T22:05:09.486352Z",
     "start_time": "2023-04-21T22:05:09.458472Z"
    }
   },
   "outputs": [
    {
     "name": "stdout",
     "output_type": "stream",
     "text": [
      "Number of components chosen: 6\n",
      "Explained variance ratio: [0.54776861 0.23302722 0.10269215 0.03255343 0.02501669 0.01556821]\n",
      "Principal Component 1:\n",
      "XLY (0.178)\n",
      "XLV (0.177)\n",
      "XLP (0.177)\n",
      "GOOGL (0.176)\n",
      "GOOG (0.176)\n",
      "\n",
      "Principal Component 2:\n",
      "1-MTH Treasury Maturity (0.241)\n",
      "4-WK Treasury Bill (0.241)\n",
      "6-MTH Treasury Bill (0.238)\n",
      "3-MTH Treasury Bill (0.236)\n",
      "26 Wk Bank Discount (0.236)\n",
      "\n",
      "Principal Component 3:\n",
      "XLE (0.317)\n",
      "Oil (0.311)\n",
      "XOM (0.309)\n",
      "CVX (0.202)\n",
      "IYR (0.180)\n",
      "\n",
      "Principal Component 4:\n",
      "XOM (0.340)\n",
      "GBP:Pound (sterling) (0.315)\n",
      "XLE (0.289)\n",
      "EUR:Euro (0.287)\n",
      "CVX (0.272)\n",
      "\n",
      "Principal Component 5:\n",
      "Oil (0.390)\n",
      "BAA Corporate Bond (0.308)\n",
      "AAA Corporate Bond (0.304)\n",
      "10-YR Treasury Maturity (0.267)\n",
      "1-YR Treasury Bill (0.251)\n",
      "\n",
      "Principal Component 6:\n",
      "Unemployment Rate (0.451)\n",
      "KRW:Won (0.325)\n",
      "GBP:Pound (sterling) (0.324)\n",
      "Gold (0.254)\n",
      "13 Wk Coupon Equiv (0.139)\n",
      "\n"
     ]
    }
   ],
   "source": [
    "df = raw_df.drop(columns=['Date', 'Upper Band', 'Lower Band', 'Middle Band', 'SMA 10', 'SMA 50', 'SMA 200', 'EMA 10', 'EMA 50', 'EMA 200', 'DEMA 10', 'HT TRENDLINE'])\n",
    "\n",
    "scaler = StandardScaler()\n",
    "scaled_df = scaler.fit_transform(df)\n",
    "pca = PCA(n_components=0.95)\n",
    "principal_components = pca.fit_transform(scaled_df)\n",
    "print(\"Number of components chosen:\", pca.n_components_)\n",
    "print(\"Explained variance ratio:\", pca.explained_variance_ratio_)\n",
    "\n",
    "def show_top_features(components, feature_names, n_top):\n",
    "    for i, component in enumerate(components):\n",
    "        top_feature_indices = (-component).argsort()[:n_top]\n",
    "        print(f\"Principal Component {i + 1}:\")\n",
    "        for index in top_feature_indices:\n",
    "            print(f\"{feature_names[index]} ({component[index]:.3f})\")\n",
    "        print()\n",
    "\n",
    "show_top_features(pca.components_, df.columns, 5)\n"
   ]
  },
  {
   "cell_type": "markdown",
   "metadata": {},
   "source": [
    "The Recursive Feature Elimination (RFE) is a linear regression model, using methods such as Lasso or Ridge regression. This approach selects the most relevant features by recursively fitting the model and removing the least important features."
   ]
  },
  {
   "cell_type": "code",
   "execution_count": 4,
   "metadata": {
    "ExecuteTime": {
     "end_time": "2023-04-21T22:05:21.316743Z",
     "start_time": "2023-04-21T22:05:11.440157Z"
    }
   },
   "outputs": [
    {
     "name": "stdout",
     "output_type": "stream",
     "text": [
      "Selected features: Index(['AAA Corporate Bond', '1-YR Treasury Bill', 'QQQ', 'XLF', 'XLI'], dtype='object')\n",
      "AAA Corporate Bond, Ranking: 1\n",
      "BAA Corporate Bond, Ranking: 49\n",
      "1-MTH Treasury Maturity, Ranking: 6\n",
      "5-YR Treasury Maturity, Ranking: 25\n",
      "10-YR Treasury Maturity, Ranking: 35\n",
      "Gold, Ranking: 36\n",
      "1-YR Treasury Bill, Ranking: 1\n",
      "3-MTH Treasury Bill, Ranking: 16\n",
      "4-WK Treasury Bill, Ranking: 47\n",
      "6-MTH Treasury Bill, Ranking: 37\n",
      "Unemployment Rate, Ranking: 40\n",
      "4 WK Bank Discount, Ranking: 34\n",
      "4 Wk Coupon Equiv, Ranking: 33\n",
      "13 Wk Bank Discount, Ranking: 50\n",
      "13 Wk Coupon Equiv, Ranking: 44\n",
      "26 Wk Bank Discount, Ranking: 4\n",
      "26 Wk Coupon Equiv, Ranking: 9\n",
      "CNY:Renminbi, Ranking: 45\n",
      "JPY:Yen, Ranking: 28\n",
      "EUR:Euro, Ranking: 42\n",
      "GBP:Pound (sterling), Ranking: 46\n",
      "INR:Indian rupee, Ranking: 19\n",
      "CAD:Canadian dollar, Ranking: 48\n",
      "KRW:Won, Ranking: 38\n",
      "Oil, Ranking: 13\n",
      "NASDAQ, Ranking: 26\n",
      "AAPL, Ranking: 21\n",
      "ABBV, Ranking: 14\n",
      "AMZN, Ranking: 10\n",
      "BTC-USD, Ranking: 43\n",
      "CVX, Ranking: 23\n",
      "GOOG, Ranking: 12\n",
      "GOOGL, Ranking: 18\n",
      "HD, Ranking: 17\n",
      "IYR, Ranking: 8\n",
      "JNJ, Ranking: 3\n",
      "MA, Ranking: 30\n",
      "META, Ranking: 29\n",
      "NVDA, Ranking: 15\n",
      "PG, Ranking: 27\n",
      "QQQ, Ranking: 1\n",
      "SMH, Ranking: 31\n",
      "UNH, Ranking: 32\n",
      "V, Ranking: 11\n",
      "XLB, Ranking: 39\n",
      "XLE, Ranking: 7\n",
      "XLF, Ranking: 1\n",
      "XLI, Ranking: 1\n",
      "XLP, Ranking: 20\n",
      "XLU, Ranking: 41\n",
      "XLV, Ranking: 24\n",
      "XLY, Ranking: 5\n",
      "XOM, Ranking: 22\n",
      "XTL, Ranking: 2\n"
     ]
    }
   ],
   "source": [
    "df2 = raw_df.drop(columns=['Date', 'Upper Band', 'Lower Band', 'Middle Band', 'SMA 10', 'SMA 50', 'SMA 200', 'EMA 10', 'EMA 50', 'EMA 200', 'DEMA 10', 'HT TRENDLINE'])\n",
    "X = df2.drop(columns=['S&P 500'])\n",
    "y = df2['S&P 500']\n",
    "\n",
    "lasso = Lasso(alpha=0.1)\n",
    "n_features_to_select = 5\n",
    "rfe = RFE(estimator=lasso, n_features_to_select=n_features_to_select)\n",
    "rfe.fit(X, y)\n",
    "selected_features = rfe.support_\n",
    "selected_feature_names = X.columns[selected_features]\n",
    "print(\"Selected features:\", selected_feature_names)\n",
    "feature_ranking = rfe.ranking_\n",
    "\n",
    "for fr, x in zip(feature_ranking, X.columns):\n",
    "    print(f'{x}, Ranking: {fr}')"
   ]
  },
  {
   "cell_type": "code",
   "execution_count": null,
   "metadata": {},
   "outputs": [],
   "source": []
  }
 ],
 "metadata": {
  "kernelspec": {
   "display_name": "Python 3 (ipykernel)",
   "language": "python",
   "name": "python3"
  },
  "language_info": {
   "codemirror_mode": {
    "name": "ipython",
    "version": 3
   },
   "file_extension": ".py",
   "mimetype": "text/x-python",
   "name": "python",
   "nbconvert_exporter": "python",
   "pygments_lexer": "ipython3",
   "version": "3.9.2"
  }
 },
 "nbformat": 4,
 "nbformat_minor": 1
}
